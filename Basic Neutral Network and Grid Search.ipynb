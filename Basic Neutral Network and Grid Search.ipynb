{
 "cells": [
  {
   "cell_type": "code",
   "execution_count": 12,
   "id": "aea69da3",
   "metadata": {},
   "outputs": [],
   "source": [
    "import numpy as np\n",
    "import pandas as pd\n",
    "\n",
    "from sklearn.model_selection import GridSearchCV\n",
    "import tensorflow.keras.backend as K\n",
    "from tensorflow.keras.models import Sequential\n",
    "from tensorflow.keras.datasets import mnist\n",
    "from tensorflow.keras.layers import Dense\n",
    "from tensorflow.keras.wrappers.scikit_learn import KerasRegressor,KerasClassifier\n",
    "\n",
    "np.random.seed(13)"
   ]
  },
  {
   "cell_type": "code",
   "execution_count": 5,
   "id": "21f9d9d8",
   "metadata": {},
   "outputs": [],
   "source": [
    "(x_train,y_train),(x_test,y_test) = mnist.load_data()\n",
    "num_classes = 10\n",
    "input_unit_size = 28*28"
   ]
  },
  {
   "cell_type": "code",
   "execution_count": 7,
   "id": "54ae71fd",
   "metadata": {},
   "outputs": [
    {
     "data": {
      "text/plain": [
       "(60000, 28, 28)"
      ]
     },
     "execution_count": 7,
     "metadata": {},
     "output_type": "execute_result"
    }
   ],
   "source": [
    "x_train.shape"
   ]
  },
  {
   "cell_type": "code",
   "execution_count": 9,
   "id": "5ab49aaa",
   "metadata": {},
   "outputs": [],
   "source": [
    "x_train = x_train.reshape(x_train.shape[0],input_unit_size)\n",
    "x_test = x_test.reshape(x_test.shape[0],input_unit_size)\n",
    "x_train = x_train.astype('float32')\n",
    "x_test = x_test.astype('float32')\n",
    "\n",
    "x_train /= 255\n",
    "x_test /=255"
   ]
  },
  {
   "cell_type": "code",
   "execution_count": 16,
   "id": "49a3f877",
   "metadata": {},
   "outputs": [],
   "source": [
    "def create_model(activation = 'relu',units = 32):\n",
    "    model = Sequential()\n",
    "    model.add(Dense(input_dim = 784,activation = activation,units = units))\n",
    "    model.add(Dense(num_classes,activation = 'softmax'))\n",
    "    model.compile(loss = 'categorical_crossentropy',optimizer = 'adam',metrics = 'accuracy')\n",
    "    return model"
   ]
  },
  {
   "cell_type": "code",
   "execution_count": 17,
   "id": "bbf77980",
   "metadata": {},
   "outputs": [
    {
     "name": "stderr",
     "output_type": "stream",
     "text": [
      "/var/folders/ll/jvzd_hvs51j8yv5s0wr73xn40000gn/T/ipykernel_16583/1108253218.py:5: DeprecationWarning: KerasClassifier is deprecated, use Sci-Keras (https://github.com/adriangb/scikeras) instead. See https://www.adriangb.com/scikeras/stable/migration.html for help migrating.\n",
      "  model = KerasClassifier(build_fn = create_model,epochs=2,batch_size = 256,verbose = 0)\n"
     ]
    },
    {
     "name": "stdout",
     "output_type": "stream",
     "text": [
      "469/469 [==============================] - 1s 941us/step\n",
      "469/469 [==============================] - 0s 851us/step\n",
      "469/469 [==============================] - 0s 712us/step\n",
      "469/469 [==============================] - 0s 704us/step\n",
      "469/469 [==============================] - 0s 719us/step\n",
      "469/469 [==============================] - 0s 708us/step\n",
      "469/469 [==============================] - 0s 707us/step\n",
      "469/469 [==============================] - 0s 701us/step\n",
      "469/469 [==============================] - 1s 1ms/step\n",
      "469/469 [==============================] - 1s 1ms/step\n",
      "469/469 [==============================] - 1s 1ms/step\n",
      "469/469 [==============================] - 0s 887us/step\n",
      "469/469 [==============================] - 0s 940us/step\n",
      "469/469 [==============================] - 0s 909us/step\n",
      "469/469 [==============================] - 1s 1ms/step\n",
      "469/469 [==============================] - 1s 1ms/step\n",
      "469/469 [==============================] - 1s 1ms/step\n",
      "469/469 [==============================] - 0s 827us/step\n",
      "469/469 [==============================] - 0s 728us/step\n",
      "469/469 [==============================] - 0s 730us/step\n",
      "469/469 [==============================] - 0s 740us/step\n",
      "469/469 [==============================] - 0s 809us/step\n",
      "469/469 [==============================] - 0s 751us/step\n",
      "469/469 [==============================] - 0s 816us/step\n",
      "469/469 [==============================] - 1s 1ms/step\n",
      "469/469 [==============================] - 0s 926us/step\n",
      "469/469 [==============================] - 1s 1ms/step\n",
      "469/469 [==============================] - 0s 900us/step\n",
      "469/469 [==============================] - 1s 1ms/step\n",
      "469/469 [==============================] - 0s 936us/step\n",
      "469/469 [==============================] - 1s 1ms/step\n",
      "469/469 [==============================] - 1s 1ms/step\n",
      "469/469 [==============================] - 0s 742us/step\n",
      "469/469 [==============================] - 0s 890us/step\n",
      "469/469 [==============================] - 0s 775us/step\n",
      "469/469 [==============================] - 0s 810us/step\n",
      "469/469 [==============================] - 1s 1ms/step\n",
      "469/469 [==============================] - 1s 1ms/step\n",
      "469/469 [==============================] - 0s 815us/step\n",
      "469/469 [==============================] - 1s 1ms/step\n",
      "469/469 [==============================] - 0s 837us/step\n",
      "469/469 [==============================] - 0s 835us/step\n",
      "469/469 [==============================] - 0s 842us/step\n",
      "469/469 [==============================] - 0s 832us/step\n",
      "469/469 [==============================] - 0s 942us/step\n",
      "469/469 [==============================] - 0s 908us/step\n",
      "469/469 [==============================] - 0s 912us/step\n",
      "469/469 [==============================] - 1s 973us/step\n",
      "469/469 [==============================] - 0s 853us/step\n",
      "469/469 [==============================] - 0s 727us/step\n",
      "469/469 [==============================] - 0s 740us/step\n",
      "469/469 [==============================] - 0s 719us/step\n",
      "469/469 [==============================] - 0s 770us/step\n",
      "469/469 [==============================] - 0s 717us/step\n",
      "469/469 [==============================] - 0s 712us/step\n",
      "469/469 [==============================] - 0s 797us/step\n",
      "469/469 [==============================] - 0s 825us/step\n",
      "469/469 [==============================] - 0s 815us/step\n",
      "469/469 [==============================] - 0s 843us/step\n",
      "469/469 [==============================] - 0s 826us/step\n",
      "469/469 [==============================] - 0s 923us/step\n",
      "469/469 [==============================] - 0s 939us/step\n",
      "469/469 [==============================] - 0s 906us/step\n",
      "469/469 [==============================] - 0s 912us/step\n",
      "0.9411333333333333 {'activation': 'relu', 'units': 128}\n"
     ]
    }
   ],
   "source": [
    "activations = ['relu','tanh','sigmoid','linear']\n",
    "units = [16,32,64,128]\n",
    "\n",
    "param_grid = dict(activation = activations,units = units)\n",
    "model = KerasClassifier(build_fn = create_model,epochs=2,batch_size = 256,verbose = 0)\n",
    "\n",
    "clf = GridSearchCV(estimator = model,param_grid=param_grid,cv = 4,scoring = 'accuracy')\n",
    "res = clf.fit(x_train,y_train)\n",
    "\n",
    "print(res.best_score_,res.best_params_)"
   ]
  },
  {
   "cell_type": "code",
   "execution_count": null,
   "id": "e8795a68",
   "metadata": {},
   "outputs": [],
   "source": []
  },
  {
   "cell_type": "code",
   "execution_count": null,
   "id": "9c1289fe",
   "metadata": {},
   "outputs": [],
   "source": []
  }
 ],
 "metadata": {
  "kernelspec": {
   "display_name": "Python 3 (ipykernel)",
   "language": "python",
   "name": "python3"
  },
  "language_info": {
   "codemirror_mode": {
    "name": "ipython",
    "version": 3
   },
   "file_extension": ".py",
   "mimetype": "text/x-python",
   "name": "python",
   "nbconvert_exporter": "python",
   "pygments_lexer": "ipython3",
   "version": "3.11.4"
  }
 },
 "nbformat": 4,
 "nbformat_minor": 5
}
